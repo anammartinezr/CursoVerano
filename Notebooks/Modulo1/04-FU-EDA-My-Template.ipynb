{
 "cells": [
  {
   "cell_type": "markdown",
   "metadata": {},
   "source": [
    "# Feature Understanding - EDA \n",
    "En el siguiente notebook, se mostrará un Feature Undertanding y Análisis Explorario de Datos para el Dataframe credsco"
   ]
  },
  {
   "cell_type": "markdown",
   "metadata": {},
   "source": [
    "## <span style=\"color:blue\">Revisión de las variables importantes para la aceptación o no de créditos\n",
    "# Objetivos\n",
    "* \n",
    "* ¿Por qué es importante? "
   ]
  },
  {
   "cell_type": "markdown",
   "metadata": {},
   "source": [
    "### Importar librerías"
   ]
  },
  {
   "cell_type": "code",
   "execution_count": 1,
   "metadata": {},
   "outputs": [],
   "source": [
    "import pandas as pd\n",
    "import numpy as np"
   ]
  },
  {
   "cell_type": "markdown",
   "metadata": {},
   "source": [
    "### Carga de datos"
   ]
  },
  {
   "cell_type": "code",
   "execution_count": 3,
   "metadata": {},
   "outputs": [
    {
     "data": {
      "text/html": [
       "<div>\n",
       "<style scoped>\n",
       "    .dataframe tbody tr th:only-of-type {\n",
       "        vertical-align: middle;\n",
       "    }\n",
       "\n",
       "    .dataframe tbody tr th {\n",
       "        vertical-align: top;\n",
       "    }\n",
       "\n",
       "    .dataframe thead th {\n",
       "        text-align: right;\n",
       "    }\n",
       "</style>\n",
       "<table border=\"1\" class=\"dataframe\">\n",
       "  <thead>\n",
       "    <tr style=\"text-align: right;\">\n",
       "      <th></th>\n",
       "      <th>Dictamen</th>\n",
       "      <th>Antiguedad.Trabajo</th>\n",
       "      <th>Vivienda</th>\n",
       "      <th>Plazo</th>\n",
       "      <th>Edad</th>\n",
       "      <th>Estado.civil</th>\n",
       "      <th>Registros</th>\n",
       "      <th>Tipo.trabajo</th>\n",
       "      <th>Gastos</th>\n",
       "      <th>Ingresos</th>\n",
       "      <th>Patrimonio</th>\n",
       "      <th>Cargas.patrimoniales</th>\n",
       "      <th>Importe.solicitado</th>\n",
       "      <th>Precio.del.bien.financiado</th>\n",
       "    </tr>\n",
       "  </thead>\n",
       "  <tbody>\n",
       "    <tr>\n",
       "      <th>0</th>\n",
       "      <td>1</td>\n",
       "      <td>9</td>\n",
       "      <td>1</td>\n",
       "      <td>60</td>\n",
       "      <td>30</td>\n",
       "      <td>2</td>\n",
       "      <td>1</td>\n",
       "      <td>3</td>\n",
       "      <td>73</td>\n",
       "      <td>129</td>\n",
       "      <td>0</td>\n",
       "      <td>0</td>\n",
       "      <td>800</td>\n",
       "      <td>846</td>\n",
       "    </tr>\n",
       "    <tr>\n",
       "      <th>1</th>\n",
       "      <td>1</td>\n",
       "      <td>17</td>\n",
       "      <td>1</td>\n",
       "      <td>60</td>\n",
       "      <td>58</td>\n",
       "      <td>3</td>\n",
       "      <td>1</td>\n",
       "      <td>1</td>\n",
       "      <td>48</td>\n",
       "      <td>131</td>\n",
       "      <td>0</td>\n",
       "      <td>0</td>\n",
       "      <td>1000</td>\n",
       "      <td>1658</td>\n",
       "    </tr>\n",
       "    <tr>\n",
       "      <th>2</th>\n",
       "      <td>2</td>\n",
       "      <td>10</td>\n",
       "      <td>2</td>\n",
       "      <td>36</td>\n",
       "      <td>46</td>\n",
       "      <td>2</td>\n",
       "      <td>2</td>\n",
       "      <td>3</td>\n",
       "      <td>90</td>\n",
       "      <td>200</td>\n",
       "      <td>3000</td>\n",
       "      <td>0</td>\n",
       "      <td>2000</td>\n",
       "      <td>2985</td>\n",
       "    </tr>\n",
       "    <tr>\n",
       "      <th>3</th>\n",
       "      <td>1</td>\n",
       "      <td>0</td>\n",
       "      <td>1</td>\n",
       "      <td>60</td>\n",
       "      <td>24</td>\n",
       "      <td>1</td>\n",
       "      <td>1</td>\n",
       "      <td>1</td>\n",
       "      <td>63</td>\n",
       "      <td>182</td>\n",
       "      <td>2500</td>\n",
       "      <td>0</td>\n",
       "      <td>900</td>\n",
       "      <td>1325</td>\n",
       "    </tr>\n",
       "    <tr>\n",
       "      <th>4</th>\n",
       "      <td>1</td>\n",
       "      <td>0</td>\n",
       "      <td>1</td>\n",
       "      <td>36</td>\n",
       "      <td>26</td>\n",
       "      <td>1</td>\n",
       "      <td>1</td>\n",
       "      <td>1</td>\n",
       "      <td>46</td>\n",
       "      <td>107</td>\n",
       "      <td>0</td>\n",
       "      <td>0</td>\n",
       "      <td>310</td>\n",
       "      <td>910</td>\n",
       "    </tr>\n",
       "  </tbody>\n",
       "</table>\n",
       "</div>"
      ],
      "text/plain": [
       "   Dictamen  Antiguedad.Trabajo  Vivienda  Plazo  Edad  Estado.civil  \\\n",
       "0         1                   9         1     60    30             2   \n",
       "1         1                  17         1     60    58             3   \n",
       "2         2                  10         2     36    46             2   \n",
       "3         1                   0         1     60    24             1   \n",
       "4         1                   0         1     36    26             1   \n",
       "\n",
       "   Registros  Tipo.trabajo  Gastos  Ingresos  Patrimonio  \\\n",
       "0          1             3      73       129           0   \n",
       "1          1             1      48       131           0   \n",
       "2          2             3      90       200        3000   \n",
       "3          1             1      63       182        2500   \n",
       "4          1             1      46       107           0   \n",
       "\n",
       "   Cargas.patrimoniales  Importe.solicitado  Precio.del.bien.financiado  \n",
       "0                     0                 800                         846  \n",
       "1                     0                1000                        1658  \n",
       "2                     0                2000                        2985  \n",
       "3                     0                 900                        1325  \n",
       "4                     0                 310                         910  "
      ]
     },
     "execution_count": 3,
     "metadata": {},
     "output_type": "execute_result"
    }
   ],
   "source": [
    "data = pd.read_csv('../../Datasets/raw/credsco.csv', sep=';')\n",
    "data.head()"
   ]
  },
  {
   "cell_type": "markdown",
   "metadata": {},
   "source": [
    " ## <span style=\"color:green\">Generalidades del dataset</span> "
   ]
  },
  {
   "cell_type": "markdown",
   "metadata": {},
   "source": [
    "### Número de variables y objetos en el dataset\n",
    "* Número de objetos\n",
    "* Número de variables\n",
    "* De existir una variable objetivo. ¿Cúal es?, ¿Es una variable real o categórica?, De ser una variable categórica, ¿Cuantas clases tiene? "
   ]
  },
  {
   "cell_type": "code",
   "execution_count": 6,
   "metadata": {},
   "outputs": [
    {
     "data": {
      "text/plain": [
       "(4455, 14)"
      ]
     },
     "execution_count": 6,
     "metadata": {},
     "output_type": "execute_result"
    }
   ],
   "source": [
    "data.shape"
   ]
  },
  {
   "cell_type": "code",
   "execution_count": 8,
   "metadata": {},
   "outputs": [
    {
     "data": {
      "text/plain": [
       "Index(['Dictamen', 'Antiguedad.Trabajo', 'Vivienda', 'Plazo', 'Edad',\n",
       "       'Estado.civil', 'Registros', 'Tipo.trabajo', 'Gastos', 'Ingresos',\n",
       "       'Patrimonio', 'Cargas.patrimoniales', 'Importe.solicitado',\n",
       "       'Precio.del.bien.financiado'],\n",
       "      dtype='object')"
      ]
     },
     "execution_count": 8,
     "metadata": {},
     "output_type": "execute_result"
    }
   ],
   "source": [
    "data.columns"
   ]
  },
  {
   "cell_type": "code",
   "execution_count": 11,
   "metadata": {},
   "outputs": [
    {
     "data": {
      "text/plain": [
       "array([1, 2, 0])"
      ]
     },
     "execution_count": 11,
     "metadata": {},
     "output_type": "execute_result"
    }
   ],
   "source": [
    "# Variable objetivo\n",
    "data['Dictamen'].unique()"
   ]
  },
  {
   "cell_type": "code",
   "execution_count": 12,
   "metadata": {},
   "outputs": [
    {
     "data": {
      "text/plain": [
       "Dictamen\n",
       "1    3200\n",
       "2    1254\n",
       "0       1\n",
       "Name: count, dtype: int64"
      ]
     },
     "execution_count": 12,
     "metadata": {},
     "output_type": "execute_result"
    }
   ],
   "source": [
    "# Variable objetivo\n",
    "data['Dictamen'].value_counts()"
   ]
  },
  {
   "cell_type": "markdown",
   "metadata": {},
   "source": [
    "## <span style=\"color:green\">Tipos de datos y sus características</span> "
   ]
  },
  {
   "cell_type": "markdown",
   "metadata": {},
   "source": [
    "### ¿Qué tipo de variables conforman el conjunto de datos y cúales son sus características?\n",
    "* ¿Son la variables categóricas?\n",
    "* ¿Son las variables ordinales o nominales?\n",
    "* ¿Son las variables numéricas continuas discretas o binarias?\n",
    "* ¿Estan la variables numericas en una escala similar?\n",
    "* ¿Cuántas variables de cada tipo de dato tenemos en el conjunto de datos?\n",
    "* Cardinalidad de variables categoricas: ¿Existen variables categóricas con alta cardinalidad?\n",
    "* ¿Hay variables categóricas con etiquetas raras? Se considera raro si está presente en menos del 5% de los datos."
   ]
  },
  {
   "cell_type": "code",
   "execution_count": null,
   "metadata": {},
   "outputs": [],
   "source": [
    "# Examinando los tipos de variables\n",
    "data.dtypes"
   ]
  },
  {
   "cell_type": "markdown",
   "metadata": {},
   "source": [
    "## <span style=\"color:green\">¿Existen valores  nulos o faltantes explicitos en el conjunto de datos?</span>\n",
    "* Qué variables contienen datos faltantes ?\n",
    "* De tener observaciones con valores nulos, ¿cuántas tenemos por cada variable?\n",
    "* ¿Cuántos valores nulos tenemos en total en el conjunto de datos?\n",
    "* ¿Cuál es la proporción de valores nulos por cada variable?\n",
    "* Visualice los valores nulos en todo el conjunto de datos\n",
    "* ¿Cuántas observaciones perdemos si eliminamos los datos faltantes?"
   ]
  },
  {
   "cell_type": "code",
   "execution_count": null,
   "metadata": {},
   "outputs": [],
   "source": []
  },
  {
   "cell_type": "markdown",
   "metadata": {},
   "source": [
    "## <span style=\"color:green\">Estadística Descriptiva</span>"
   ]
  },
  {
   "cell_type": "markdown",
   "metadata": {},
   "source": [
    "### Medidas de Tencia Central\n",
    "* Media\n",
    "* Mediana\n",
    "* Moda"
   ]
  },
  {
   "cell_type": "code",
   "execution_count": null,
   "metadata": {},
   "outputs": [],
   "source": []
  },
  {
   "cell_type": "markdown",
   "metadata": {},
   "source": [
    "### Medidas de Variabilidad\n",
    "* Valores máximo y mínimo\n",
    "* Rango\n",
    "* Varianza\n",
    "* Desviación estandar\n",
    "* Rango intercuartil"
   ]
  },
  {
   "cell_type": "code",
   "execution_count": null,
   "metadata": {},
   "outputs": [],
   "source": []
  },
  {
   "cell_type": "markdown",
   "metadata": {},
   "source": [
    "## <span style=\"color:green\">Visualización de la Distribución (Análisis Univariado)</span> \n",
    "* Conteos (tabulación de valores) y proporciones\n",
    "    * Variables numéricas\n",
    "    * Variables no numéricas\n",
    "    * Todas\n",
    "* ¿Cómo visualizar los conteos?\n",
    "* ¿Están asimétricas todas las variables numéricas?\n",
    "* ¿Se observan outliers?"
   ]
  },
  {
   "cell_type": "markdown",
   "metadata": {},
   "source": [
    "### Histogramas"
   ]
  },
  {
   "cell_type": "code",
   "execution_count": null,
   "metadata": {},
   "outputs": [],
   "source": []
  },
  {
   "cell_type": "markdown",
   "metadata": {},
   "source": [
    "### Bloxplots"
   ]
  },
  {
   "cell_type": "code",
   "execution_count": null,
   "metadata": {},
   "outputs": [],
   "source": []
  },
  {
   "cell_type": "markdown",
   "metadata": {},
   "source": [
    "### Gráficos de barras"
   ]
  },
  {
   "cell_type": "code",
   "execution_count": null,
   "metadata": {},
   "outputs": [],
   "source": []
  },
  {
   "cell_type": "markdown",
   "metadata": {},
   "source": [
    "### Distribuciones: PMFs, CDFs y PDFs\n",
    "* Funciones de probabilidad de masas (PMFs)\n",
    "* Funciones empirícas de probabilidad acumulada (ECDFs)\n",
    "* Comparación de distribuciones\n",
    "* Funciones de densidad de probabilidad"
   ]
  },
  {
   "cell_type": "code",
   "execution_count": null,
   "metadata": {},
   "outputs": [],
   "source": []
  },
  {
   "cell_type": "markdown",
   "metadata": {},
   "source": [
    "## <span style=\"color:green\">Interacciones</span> "
   ]
  },
  {
   "cell_type": "markdown",
   "metadata": {},
   "source": [
    "### Análisis Bivariado\n",
    "* Gráficos de dispersión\n",
    "* Gráficos de dispersión + índice de correlación\n",
    "* Gráficos de barras apiladas\n",
    "* Análisis de regresión simple"
   ]
  },
  {
   "cell_type": "code",
   "execution_count": null,
   "metadata": {},
   "outputs": [],
   "source": []
  },
  {
   "cell_type": "markdown",
   "metadata": {},
   "source": [
    "### Análisis multivariado\n",
    "* Boxplots con múltiple variables\n",
    "* Matriz de correlación\n",
    "* Gráficos de violín\n",
    "* Análisis de regresión múltiple"
   ]
  },
  {
   "cell_type": "code",
   "execution_count": null,
   "metadata": {},
   "outputs": [],
   "source": []
  },
  {
   "cell_type": "markdown",
   "metadata": {},
   "source": [
    "## <span style=\"color:green\">Sumarización</span> \n",
    "Extraiga las conclusiones más importantes del análisis realizado. Se sugiere escribir frases cortas.\n"
   ]
  },
  {
   "cell_type": "markdown",
   "metadata": {},
   "source": []
  }
 ],
 "metadata": {
  "kernelspec": {
   "display_name": "venv",
   "language": "python",
   "name": "python3"
  },
  "language_info": {
   "codemirror_mode": {
    "name": "ipython",
    "version": 3
   },
   "file_extension": ".py",
   "mimetype": "text/x-python",
   "name": "python",
   "nbconvert_exporter": "python",
   "pygments_lexer": "ipython3",
   "version": "3.10.12"
  }
 },
 "nbformat": 4,
 "nbformat_minor": 2
}
