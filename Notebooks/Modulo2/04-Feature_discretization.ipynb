{
 "cells": [
  {
   "cell_type": "markdown",
   "metadata": {},
   "source": [
    "# En este Notebook aplicaremos la discretización, por intervalos, cuantil, por clustering,  en intervalos arbitrarios y discretizacion supervisada."
   ]
  },
  {
   "cell_type": "code",
   "execution_count": null,
   "metadata": {},
   "outputs": [],
   "source": [
    "import numpy as np\n",
    "import pandas as pd\n",
    "import matplotlib.pyplot as plt\n",
    "\n",
    "from sklearn.model_selection import train_test_split\n",
    "# Para discretización\n",
    "from sklearn.preprocessing import KBinsDiscretizer"
   ]
  },
  {
   "cell_type": "code",
   "execution_count": null,
   "metadata": {},
   "outputs": [],
   "source": [
    "# Cargando datos Boston House\n",
    "data = pd.read_csv('../../datasets/raw/boston.csv')\n",
    "data.head()"
   ]
  },
  {
   "cell_type": "code",
   "execution_count": null,
   "metadata": {},
   "outputs": [],
   "source": [
    "# Separando los datos\n",
    "X_train, X_test, y_train, y_test = train_test_split(\n",
    "    data.drop('MEDV', axis=1), data['MEDV'], test_size=0.3, random_state=0)\n",
    "\n",
    "X_train.shape, X_test.shape"
   ]
  },
  {
   "cell_type": "code",
   "execution_count": null,
   "metadata": {},
   "outputs": [],
   "source": [
    "# Identificamos y graficamos las variables que deseamos discretizar\n",
    "feature_to_discretize=['LSTAT', 'DIS', 'RM']\n",
    "\n",
    "# Exploremos la distribución \n",
    "X_train[feature_to_discretize].hist(bins=30, figsize=(10,6))\n",
    "plt.show()"
   ]
  },
  {
   "cell_type": "markdown",
   "metadata": {},
   "source": [
    "### Discretización igual intervalo"
   ]
  },
  {
   "cell_type": "code",
   "execution_count": null,
   "metadata": {},
   "outputs": [],
   "source": [
    "# Configuremos y entrenemos un discretizador por intervalos de 10 bins\n",
    "\n",
    "disc = KBinsDiscretizer(n_bins=10, encode='ordinal', strategy= 'uniform', random_state=1)\n",
    "\n",
    "disc.fit(X_train[feature_to_discretize])\n",
    "\n",
    "# Los límites de los intervalos son almacenados en bin_edges_attribute\n",
    "disc.bin_edges_"
   ]
  },
  {
   "cell_type": "code",
   "execution_count": null,
   "metadata": {},
   "outputs": [],
   "source": [
    "# Tranformemos el set de entrenamiento. Recordar que Sklearn regresa Numpy arrays\n",
    "train_t = disc.transform(X_train[feature_to_discretize])\n",
    "\n",
    "# Transformemos el array en dataframe\n",
    "train_t = pd.DataFrame(train_t, columns = feature_to_discretize)\n",
    "\n",
    "train_t.head()"
   ]
  },
  {
   "cell_type": "code",
   "execution_count": null,
   "metadata": {},
   "outputs": [],
   "source": [
    "# Grafiquemos y comparemos\n",
    "X_train[feature_to_discretize].hist(bins=30, figsize=(10,6))\n",
    "plt.show()\n",
    "\n",
    "train_t\n",
    "\n",
    "train_t.hist(bins=30, figsize=(10,6))\n",
    "plt.show()\n"
   ]
  },
  {
   "cell_type": "code",
   "execution_count": null,
   "metadata": {},
   "outputs": [],
   "source": [
    "# El mismo procedimiento para el conjunto de prueba\n",
    "\n",
    "test_t = disc.transform(X_test[feature_to_discretize])\n",
    "\n",
    "test_t = pd.DataFrame(test_t, columns = feature_to_discretize)\n",
    "test_t.head(100)"
   ]
  },
  {
   "cell_type": "markdown",
   "metadata": {},
   "source": [
    "### Discretización igual frecuencia"
   ]
  },
  {
   "cell_type": "code",
   "execution_count": null,
   "metadata": {},
   "outputs": [],
   "source": [
    "# Configuremos y entrenemos un discretizador basado en cuantiles con 10 bins\n",
    "disc = KBinsDiscretizer(n_bins=10, encode='ordinal', strategy='quantile',random_state=1)\n",
    "\n",
    "disc.fit(X_train[feature_to_discretize])\n",
    "\n",
    "# Los limites de los intervalos son almacenados en un atributo transformado:\n",
    "disc.bin_edges_"
   ]
  },
  {
   "cell_type": "code",
   "execution_count": null,
   "metadata": {},
   "outputs": [],
   "source": [
    "# Tranformemos el set de entrenamiento. Recordar que Sklearn regresa Numpy arrays\n",
    "train_t = disc.transform(X_train[feature_to_discretize])\n",
    "\n",
    "train_t = pd.DataFrame(train_t, columns = feature_to_discretize)\n",
    "\n",
    "train_t.head()"
   ]
  },
  {
   "cell_type": "code",
   "execution_count": null,
   "metadata": {},
   "outputs": [],
   "source": [
    "# Grafiquemos y comparemos\n",
    "X_train[feature_to_discretize].hist(bins=30, figsize=(10,6))\n",
    "plt.show()\n",
    "\n",
    "train_t\n",
    "\n",
    "train_t.hist(bins=30, figsize=(10,6))\n",
    "plt.show()"
   ]
  },
  {
   "cell_type": "code",
   "execution_count": null,
   "metadata": {},
   "outputs": [],
   "source": [
    "# Sobre el conjunto de entrenamiento\n",
    "test_t = disc.transform(X_test[feature_to_discretize])\n",
    "test_t = pd.DataFrame(test_t, columns = feature_to_discretize)\n",
    "test_t.head()"
   ]
  },
  {
   "cell_type": "markdown",
   "metadata": {},
   "source": [
    "### Discretizacion utilizando k-means"
   ]
  },
  {
   "cell_type": "code",
   "execution_count": null,
   "metadata": {},
   "outputs": [],
   "source": [
    "# Configuremos y entrenemos un discretizador k-means\n",
    "disc = KBinsDiscretizer(n_bins=10, encode='ordinal', strategy='kmeans', random_state=1)\n",
    "disc.fit(X_train[feature_to_discretize])\n",
    "\n",
    "# Inspeccionamos las fronteras de los bins:\n",
    "disc.bin_edges_"
   ]
  },
  {
   "cell_type": "code",
   "execution_count": null,
   "metadata": {},
   "outputs": [],
   "source": [
    "# Apliquemos la transformación al conjunto de entrenamiento\n",
    "train_t = disc.transform(X_train[feature_to_discretize])\n",
    "train_t = pd.DataFrame(train_t, columns = feature_to_discretize)\n",
    "\n",
    "print(train_t.head(20))\n"
   ]
  },
  {
   "cell_type": "code",
   "execution_count": null,
   "metadata": {},
   "outputs": [],
   "source": [
    "# Grafiquemos y comparemos\n",
    "X_train[feature_to_discretize].hist(bins=30, figsize=(10,6))\n",
    "plt.show()\n",
    "\n",
    "train_t\n",
    "\n",
    "train_t.hist(bins=30, figsize=(10,6))\n",
    "plt.show()"
   ]
  },
  {
   "cell_type": "code",
   "execution_count": null,
   "metadata": {},
   "outputs": [],
   "source": [
    "# Sobre el conjunto de prueba\n",
    "\n",
    "test_t = disc.transform(X_test[feature_to_discretize])\n",
    "test_t = pd.DataFrame(test_t, columns = feature_to_discretize)\n",
    "test_t.head()"
   ]
  },
  {
   "cell_type": "code",
   "execution_count": null,
   "metadata": {},
   "outputs": [],
   "source": [
    "#Grafiquemos y comparemos en e cto. de prueba\n",
    "X_test[feature_to_discretize].hist(bins=30, figsize=(10,6))\n",
    "plt.show()\n",
    "\n",
    "test_t\n",
    "\n",
    "test_t.hist(bins=30, figsize=(10,6))\n",
    "plt.show()"
   ]
  },
  {
   "cell_type": "markdown",
   "metadata": {},
   "source": [
    "### Discretización por intervalos arbitrarios"
   ]
  },
  {
   "cell_type": "markdown",
   "metadata": {},
   "source": [
    "Primero necesitamos determinar los límites de los intervalos"
   ]
  },
  {
   "cell_type": "code",
   "execution_count": null,
   "metadata": {},
   "outputs": [],
   "source": [
    "# Grafiquemos el histograma para variable LSTAT\n",
    "\n",
    "data['LSTAT'].hist(bins=30)"
   ]
  },
  {
   "cell_type": "code",
   "execution_count": null,
   "metadata": {},
   "outputs": [],
   "source": [
    "# Definimos las fronteras del bin\n",
    "intervals = [0, 10, 20, 30, np.Inf]\n",
    "\n",
    "# Etiquetas de los bins\n",
    "labels = ['0-10', '10-20', '20-30', '>30']"
   ]
  },
  {
   "cell_type": "code",
   "execution_count": null,
   "metadata": {},
   "outputs": [],
   "source": [
    "# Discretizemos LSTAT\n",
    "\n",
    "# Version discretizada con strings\n",
    "data['lstat_labels'] = pd.cut(\n",
    "    data['LSTAT'], bins=intervals, labels=labels, include_lowest=True)\n",
    "\n",
    "# Versión discretizada con los limites de los intervalos\n",
    "data['lstat_intervals'] = pd.cut(\n",
    "    data['LSTAT'], bins=intervals, labels=None, include_lowest=True)\n",
    "\n",
    "# Mostramos la original y ambas versiones discretizadas de la variable\n",
    "print(data[['LSTAT', 'lstat_labels', 'lstat_intervals']].head(30))"
   ]
  },
  {
   "cell_type": "code",
   "execution_count": null,
   "metadata": {},
   "outputs": [],
   "source": [
    "# Revisemos el número de observaciones por bin\n",
    "\n",
    "data['lstat_intervals'].value_counts()"
   ]
  },
  {
   "cell_type": "code",
   "execution_count": null,
   "metadata": {},
   "outputs": [],
   "source": [
    "fig= data['lstat_intervals'].value_counts().plot.bar()"
   ]
  },
  {
   "cell_type": "markdown",
   "metadata": {},
   "source": [
    "### Discretización supervisada utilizando un Entropy based discretizer"
   ]
  },
  {
   "cell_type": "code",
   "execution_count": null,
   "metadata": {},
   "outputs": [],
   "source": [
    "# Utlizamos un nuevo conjunto de datos de UCI disponible en sklearn\n",
    "from sklearn.datasets import load_wine\n",
    "\n",
    "data = load_wine()\n",
    "df = pd.DataFrame(data.data, columns=data.feature_names)\n",
    "df.head()\n"
   ]
  },
  {
   "cell_type": "code",
   "execution_count": null,
   "metadata": {},
   "outputs": [],
   "source": [
    "df.describe()"
   ]
  },
  {
   "cell_type": "code",
   "execution_count": null,
   "metadata": {},
   "outputs": [],
   "source": [
    "#Elegimos la variable a discretizar y el target multiclase.\n",
    "\n",
    "variable = \"magnesium\"\n",
    "x = df[variable].values\n",
    "y = data.target\n"
   ]
  },
  {
   "cell_type": "code",
   "execution_count": null,
   "metadata": {},
   "outputs": [],
   "source": [
    "# Importamos e instanciamos un objeto de MDLP de la librería optbinning. \n",
    "from optbinning import MDLP\n",
    "\n",
    "mdlp = MDLP()\n",
    "mdlp.fit(x,y)\n",
    "splits=mdlp.splits\n"
   ]
  },
  {
   "cell_type": "code",
   "execution_count": null,
   "metadata": {},
   "outputs": [],
   "source": [
    "finalSplits=splits.tolist()\n",
    "finalSplits.insert(0,0)\n",
    "finalSplits.append(np.inf)\n",
    "\n",
    "print(finalSplits)"
   ]
  },
  {
   "cell_type": "code",
   "execution_count": null,
   "metadata": {},
   "outputs": [],
   "source": [
    "# Versión discretizada con los limites de los intervalos\n",
    "df['magnesium_intervals'] = pd.cut(\n",
    "    df['magnesium'], bins=finalSplits, labels=None, include_lowest=True)\n",
    "\n",
    "# Mostramos la original y ambas versiones discretizadas de la variable\n",
    "print(df[['magnesium','magnesium_intervals']].head(30))\n"
   ]
  },
  {
   "cell_type": "code",
   "execution_count": null,
   "metadata": {},
   "outputs": [],
   "source": [
    "#Grafiquemos y comparemos\n",
    "df['magnesium'].hist(bins=30)\n",
    "plt.show()"
   ]
  },
  {
   "cell_type": "code",
   "execution_count": null,
   "metadata": {},
   "outputs": [],
   "source": [
    "fig= df['magnesium_intervals'].value_counts().plot.bar()"
   ]
  },
  {
   "cell_type": "markdown",
   "metadata": {},
   "source": [
    "### Discretización supervisada utilizando arboles de desicion"
   ]
  },
  {
   "cell_type": "markdown",
   "metadata": {},
   "source": [
    "Se deje como ejercicio"
   ]
  }
 ],
 "metadata": {
  "interpreter": {
   "hash": "3d3da8fb9e8bfa1bb37ba2540b07cf657610f2258356e4813ced518687dfb04b"
  },
  "kernelspec": {
   "display_name": "Python 3.10.4 ('venv': venv)",
   "language": "python",
   "name": "python3"
  },
  "language_info": {
   "codemirror_mode": {
    "name": "ipython",
    "version": 3
   },
   "file_extension": ".py",
   "mimetype": "text/x-python",
   "name": "python",
   "nbconvert_exporter": "python",
   "pygments_lexer": "ipython3",
   "version": "3.12.3"
  },
  "orig_nbformat": 4
 },
 "nbformat": 4,
 "nbformat_minor": 2
}
